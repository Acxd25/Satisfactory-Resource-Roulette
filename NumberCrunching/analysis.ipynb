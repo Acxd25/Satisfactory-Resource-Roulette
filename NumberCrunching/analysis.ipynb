{
 "cells": [
  {
   "cell_type": "code",
   "execution_count": 31,
   "id": "initial_id",
   "metadata": {
    "collapsed": true,
    "ExecuteTime": {
     "end_time": "2024-11-05T18:37:30.858333700Z",
     "start_time": "2024-11-05T18:37:30.828606600Z"
    }
   },
   "outputs": [
    {
     "data": {
      "text/plain": "                                               NodeName      ResourceClass  \\\n0     [2024.11.05-16.47.31:572][238][2024-11-05 17:4...   Desc_LiquidOil_C   \n1     [2024.11.05-16.47.31:572][238][2024-11-05 17:4...         Desc_SAM_C   \n2     [2024.11.05-16.47.31:572][238][2024-11-05 17:4...         Desc_SAM_C   \n3     [2024.11.05-16.47.31:572][238][2024-11-05 17:4...         Desc_SAM_C   \n4     [2024.11.05-16.47.31:572][238][2024-11-05 17:4...       Desc_Stone_C   \n...                                                 ...                ...   \n2388  [2024.11.05-16.47.31:593][238][2024-11-05 17:4...  Desc_RP_Deanium_C   \n2389  [2024.11.05-16.47.31:593][238][2024-11-05 17:4...  Desc_RP_Deanium_C   \n2390  [2024.11.05-16.47.31:593][238][2024-11-05 17:4...  Desc_RP_Deanium_C   \n2391  [2024.11.05-16.47.31:593][238][2024-11-05 17:4...  Desc_RP_Deanium_C   \n2392  [2024.11.05-16.47.31:593][238][2024-11-05 17:4...  Desc_RP_Deanium_C   \n\n     ResourceForm ResourceAmount  \n0          Liquid       Infinite  \n1           Solid       Infinite  \n2           Solid       Infinite  \n3           Solid       Infinite  \n4           Solid       Infinite  \n...           ...            ...  \n2388       Liquid       Infinite  \n2389       Liquid       Infinite  \n2390       Liquid       Infinite  \n2391       Liquid       Infinite  \n2392       Liquid       Infinite  \n\n[2393 rows x 4 columns]",
      "text/html": "<div>\n<style scoped>\n    .dataframe tbody tr th:only-of-type {\n        vertical-align: middle;\n    }\n\n    .dataframe tbody tr th {\n        vertical-align: top;\n    }\n\n    .dataframe thead th {\n        text-align: right;\n    }\n</style>\n<table border=\"1\" class=\"dataframe\">\n  <thead>\n    <tr style=\"text-align: right;\">\n      <th></th>\n      <th>NodeName</th>\n      <th>ResourceClass</th>\n      <th>ResourceForm</th>\n      <th>ResourceAmount</th>\n    </tr>\n  </thead>\n  <tbody>\n    <tr>\n      <th>0</th>\n      <td>[2024.11.05-16.47.31:572][238][2024-11-05 17:4...</td>\n      <td>Desc_LiquidOil_C</td>\n      <td>Liquid</td>\n      <td>Infinite</td>\n    </tr>\n    <tr>\n      <th>1</th>\n      <td>[2024.11.05-16.47.31:572][238][2024-11-05 17:4...</td>\n      <td>Desc_SAM_C</td>\n      <td>Solid</td>\n      <td>Infinite</td>\n    </tr>\n    <tr>\n      <th>2</th>\n      <td>[2024.11.05-16.47.31:572][238][2024-11-05 17:4...</td>\n      <td>Desc_SAM_C</td>\n      <td>Solid</td>\n      <td>Infinite</td>\n    </tr>\n    <tr>\n      <th>3</th>\n      <td>[2024.11.05-16.47.31:572][238][2024-11-05 17:4...</td>\n      <td>Desc_SAM_C</td>\n      <td>Solid</td>\n      <td>Infinite</td>\n    </tr>\n    <tr>\n      <th>4</th>\n      <td>[2024.11.05-16.47.31:572][238][2024-11-05 17:4...</td>\n      <td>Desc_Stone_C</td>\n      <td>Solid</td>\n      <td>Infinite</td>\n    </tr>\n    <tr>\n      <th>...</th>\n      <td>...</td>\n      <td>...</td>\n      <td>...</td>\n      <td>...</td>\n    </tr>\n    <tr>\n      <th>2388</th>\n      <td>[2024.11.05-16.47.31:593][238][2024-11-05 17:4...</td>\n      <td>Desc_RP_Deanium_C</td>\n      <td>Liquid</td>\n      <td>Infinite</td>\n    </tr>\n    <tr>\n      <th>2389</th>\n      <td>[2024.11.05-16.47.31:593][238][2024-11-05 17:4...</td>\n      <td>Desc_RP_Deanium_C</td>\n      <td>Liquid</td>\n      <td>Infinite</td>\n    </tr>\n    <tr>\n      <th>2390</th>\n      <td>[2024.11.05-16.47.31:593][238][2024-11-05 17:4...</td>\n      <td>Desc_RP_Deanium_C</td>\n      <td>Liquid</td>\n      <td>Infinite</td>\n    </tr>\n    <tr>\n      <th>2391</th>\n      <td>[2024.11.05-16.47.31:593][238][2024-11-05 17:4...</td>\n      <td>Desc_RP_Deanium_C</td>\n      <td>Liquid</td>\n      <td>Infinite</td>\n    </tr>\n    <tr>\n      <th>2392</th>\n      <td>[2024.11.05-16.47.31:593][238][2024-11-05 17:4...</td>\n      <td>Desc_RP_Deanium_C</td>\n      <td>Liquid</td>\n      <td>Infinite</td>\n    </tr>\n  </tbody>\n</table>\n<p>2393 rows × 4 columns</p>\n</div>"
     },
     "execution_count": 31,
     "metadata": {},
     "output_type": "execute_result"
    }
   ],
   "source": [
    "import pandas as pd\n",
    "df = pd.read_csv('resource_nodes_log.txt', delimiter='|', names=['NodeName', 'ResourceClass', 'ResourceForm', 'ResourceAmount'])\n",
    "unique_forms = df['ResourceForm'].unique()\n",
    "unique_classes = df['ResourceClass'].unique()\n",
    "df"
   ]
  },
  {
   "cell_type": "code",
   "execution_count": 22,
   "outputs": [
    {
     "data": {
      "text/plain": "                                               NodeName ResourceClass  \\\n459   [2024.11.05-16.47.31:573][238][2024-11-05 17:4...           NaN   \n460   [2024.11.05-16.47.31:573][238][2024-11-05 17:4...           NaN   \n461   [2024.11.05-16.47.31:573][238][2024-11-05 17:4...           NaN   \n462   [2024.11.05-16.47.31:573][238][2024-11-05 17:4...           NaN   \n463   [2024.11.05-16.47.31:573][238][2024-11-05 17:4...           NaN   \n...                                                 ...           ...   \n1772  [2024.11.05-16.47.31:583][238][2024-11-05 17:4...           NaN   \n1773  [2024.11.05-16.47.31:583][238][2024-11-05 17:4...           NaN   \n1774  [2024.11.05-16.47.31:583][238][2024-11-05 17:4...           NaN   \n1775  [2024.11.05-16.47.31:583][238][2024-11-05 17:4...           NaN   \n1776  [2024.11.05-16.47.31:583][238][2024-11-05 17:4...           NaN   \n\n     ResourceForm ResourceAmount  \n459   Unknown (0)       Infinite  \n460   Unknown (0)       Infinite  \n461   Unknown (0)       Infinite  \n462   Unknown (0)       Infinite  \n463   Unknown (0)       Infinite  \n...           ...            ...  \n1772  Unknown (0)       Infinite  \n1773  Unknown (0)       Infinite  \n1774  Unknown (0)       Infinite  \n1775  Unknown (0)       Infinite  \n1776  Unknown (0)       Infinite  \n\n[1318 rows x 4 columns]",
      "text/html": "<div>\n<style scoped>\n    .dataframe tbody tr th:only-of-type {\n        vertical-align: middle;\n    }\n\n    .dataframe tbody tr th {\n        vertical-align: top;\n    }\n\n    .dataframe thead th {\n        text-align: right;\n    }\n</style>\n<table border=\"1\" class=\"dataframe\">\n  <thead>\n    <tr style=\"text-align: right;\">\n      <th></th>\n      <th>NodeName</th>\n      <th>ResourceClass</th>\n      <th>ResourceForm</th>\n      <th>ResourceAmount</th>\n    </tr>\n  </thead>\n  <tbody>\n    <tr>\n      <th>459</th>\n      <td>[2024.11.05-16.47.31:573][238][2024-11-05 17:4...</td>\n      <td>NaN</td>\n      <td>Unknown (0)</td>\n      <td>Infinite</td>\n    </tr>\n    <tr>\n      <th>460</th>\n      <td>[2024.11.05-16.47.31:573][238][2024-11-05 17:4...</td>\n      <td>NaN</td>\n      <td>Unknown (0)</td>\n      <td>Infinite</td>\n    </tr>\n    <tr>\n      <th>461</th>\n      <td>[2024.11.05-16.47.31:573][238][2024-11-05 17:4...</td>\n      <td>NaN</td>\n      <td>Unknown (0)</td>\n      <td>Infinite</td>\n    </tr>\n    <tr>\n      <th>462</th>\n      <td>[2024.11.05-16.47.31:573][238][2024-11-05 17:4...</td>\n      <td>NaN</td>\n      <td>Unknown (0)</td>\n      <td>Infinite</td>\n    </tr>\n    <tr>\n      <th>463</th>\n      <td>[2024.11.05-16.47.31:573][238][2024-11-05 17:4...</td>\n      <td>NaN</td>\n      <td>Unknown (0)</td>\n      <td>Infinite</td>\n    </tr>\n    <tr>\n      <th>...</th>\n      <td>...</td>\n      <td>...</td>\n      <td>...</td>\n      <td>...</td>\n    </tr>\n    <tr>\n      <th>1772</th>\n      <td>[2024.11.05-16.47.31:583][238][2024-11-05 17:4...</td>\n      <td>NaN</td>\n      <td>Unknown (0)</td>\n      <td>Infinite</td>\n    </tr>\n    <tr>\n      <th>1773</th>\n      <td>[2024.11.05-16.47.31:583][238][2024-11-05 17:4...</td>\n      <td>NaN</td>\n      <td>Unknown (0)</td>\n      <td>Infinite</td>\n    </tr>\n    <tr>\n      <th>1774</th>\n      <td>[2024.11.05-16.47.31:583][238][2024-11-05 17:4...</td>\n      <td>NaN</td>\n      <td>Unknown (0)</td>\n      <td>Infinite</td>\n    </tr>\n    <tr>\n      <th>1775</th>\n      <td>[2024.11.05-16.47.31:583][238][2024-11-05 17:4...</td>\n      <td>NaN</td>\n      <td>Unknown (0)</td>\n      <td>Infinite</td>\n    </tr>\n    <tr>\n      <th>1776</th>\n      <td>[2024.11.05-16.47.31:583][238][2024-11-05 17:4...</td>\n      <td>NaN</td>\n      <td>Unknown (0)</td>\n      <td>Infinite</td>\n    </tr>\n  </tbody>\n</table>\n<p>1318 rows × 4 columns</p>\n</div>"
     },
     "execution_count": 22,
     "metadata": {},
     "output_type": "execute_result"
    }
   ],
   "source": [
    "nan_or_unknown = df[df.isnull().any(axis=1) | df.apply(lambda row: row.str.contains('Unknown').any(), axis=1)]\n",
    "nan_or_unknown"
   ],
   "metadata": {
    "collapsed": false,
    "ExecuteTime": {
     "end_time": "2024-11-05T18:32:38.218149400Z",
     "start_time": "2024-11-05T18:32:38.123563Z"
    }
   },
   "id": "3dcca995a4bb6af5"
  },
  {
   "cell_type": "code",
   "execution_count": 23,
   "outputs": [
    {
     "name": "stdout",
     "output_type": "stream",
     "text": [
      "Unique Resource Forms: ['Liquid' 'Solid' 'Unknown (0)' 'Gas' 'Heat']\n"
     ]
    }
   ],
   "source": [
    "print(\"Unique Resource Forms:\", unique_forms)"
   ],
   "metadata": {
    "collapsed": false,
    "ExecuteTime": {
     "end_time": "2024-11-05T18:32:38.247876200Z",
     "start_time": "2024-11-05T18:32:38.218149400Z"
    }
   },
   "id": "1948012c3ca18ced"
  },
  {
   "cell_type": "code",
   "execution_count": 24,
   "outputs": [
    {
     "name": "stdout",
     "output_type": "stream",
     "text": [
      "Unique Resource Classes: ['Desc_LiquidOil_C' 'Desc_SAM_C' 'Desc_Stone_C' 'Desc_OreIron_C'\n",
      " 'Desc_OreCopper_C' 'Desc_OreGold_C' 'Desc_Coal_C' 'Desc_RawQuartz_C'\n",
      " 'Desc_Sulfur_C' 'Desc_OreBauxite_C' 'Desc_OreUranium_C' nan\n",
      " 'Desc_NitrogenGas_C' 'Desc_Water_C' 'Desc_Geyser_C'\n",
      " 'Desc_RP_WaterDamNode_C' 'Desc_WaterTurbineNode_C'\n",
      " 'Desc_FF_Dirt_Fertilized_C' 'Desc_FF_Dirt_C' 'Desc_FF_Dirt_Wet_C'\n",
      " 'Desc_RP_Thorium_C' 'Desc_RP_Deanium_C']\n"
     ]
    }
   ],
   "source": [
    "print(\"Unique Resource Classes:\", unique_classes)"
   ],
   "metadata": {
    "collapsed": false,
    "ExecuteTime": {
     "end_time": "2024-11-05T18:32:38.280369500Z",
     "start_time": "2024-11-05T18:32:38.234014700Z"
    }
   },
   "id": "709ecc070d4536b6"
  },
  {
   "cell_type": "code",
   "execution_count": 30,
   "outputs": [
    {
     "data": {
      "text/plain": "                                               NodeName      ResourceClass  \\\n0     [2024.11.05-16.47.31:572][238][2024-11-05 17:4...   Desc_LiquidOil_C   \n61    [2024.11.05-16.47.31:572][238][2024-11-05 17:4...   Desc_LiquidOil_C   \n62    [2024.11.05-16.47.31:572][238][2024-11-05 17:4...   Desc_LiquidOil_C   \n64    [2024.11.05-16.47.31:572][238][2024-11-05 17:4...   Desc_LiquidOil_C   \n65    [2024.11.05-16.47.31:572][238][2024-11-05 17:4...   Desc_LiquidOil_C   \n...                                                 ...                ...   \n2388  [2024.11.05-16.47.31:593][238][2024-11-05 17:4...  Desc_RP_Deanium_C   \n2389  [2024.11.05-16.47.31:593][238][2024-11-05 17:4...  Desc_RP_Deanium_C   \n2390  [2024.11.05-16.47.31:593][238][2024-11-05 17:4...  Desc_RP_Deanium_C   \n2391  [2024.11.05-16.47.31:593][238][2024-11-05 17:4...  Desc_RP_Deanium_C   \n2392  [2024.11.05-16.47.31:593][238][2024-11-05 17:4...  Desc_RP_Deanium_C   \n\n     ResourceForm ResourceAmount  \n0          Liquid       Infinite  \n61         Liquid       Infinite  \n62         Liquid       Infinite  \n64         Liquid       Infinite  \n65         Liquid       Infinite  \n...           ...            ...  \n2388       Liquid       Infinite  \n2389       Liquid       Infinite  \n2390       Liquid       Infinite  \n2391       Liquid       Infinite  \n2392       Liquid       Infinite  \n\n[126 rows x 4 columns]",
      "text/html": "<div>\n<style scoped>\n    .dataframe tbody tr th:only-of-type {\n        vertical-align: middle;\n    }\n\n    .dataframe tbody tr th {\n        vertical-align: top;\n    }\n\n    .dataframe thead th {\n        text-align: right;\n    }\n</style>\n<table border=\"1\" class=\"dataframe\">\n  <thead>\n    <tr style=\"text-align: right;\">\n      <th></th>\n      <th>NodeName</th>\n      <th>ResourceClass</th>\n      <th>ResourceForm</th>\n      <th>ResourceAmount</th>\n    </tr>\n  </thead>\n  <tbody>\n    <tr>\n      <th>0</th>\n      <td>[2024.11.05-16.47.31:572][238][2024-11-05 17:4...</td>\n      <td>Desc_LiquidOil_C</td>\n      <td>Liquid</td>\n      <td>Infinite</td>\n    </tr>\n    <tr>\n      <th>61</th>\n      <td>[2024.11.05-16.47.31:572][238][2024-11-05 17:4...</td>\n      <td>Desc_LiquidOil_C</td>\n      <td>Liquid</td>\n      <td>Infinite</td>\n    </tr>\n    <tr>\n      <th>62</th>\n      <td>[2024.11.05-16.47.31:572][238][2024-11-05 17:4...</td>\n      <td>Desc_LiquidOil_C</td>\n      <td>Liquid</td>\n      <td>Infinite</td>\n    </tr>\n    <tr>\n      <th>64</th>\n      <td>[2024.11.05-16.47.31:572][238][2024-11-05 17:4...</td>\n      <td>Desc_LiquidOil_C</td>\n      <td>Liquid</td>\n      <td>Infinite</td>\n    </tr>\n    <tr>\n      <th>65</th>\n      <td>[2024.11.05-16.47.31:572][238][2024-11-05 17:4...</td>\n      <td>Desc_LiquidOil_C</td>\n      <td>Liquid</td>\n      <td>Infinite</td>\n    </tr>\n    <tr>\n      <th>...</th>\n      <td>...</td>\n      <td>...</td>\n      <td>...</td>\n      <td>...</td>\n    </tr>\n    <tr>\n      <th>2388</th>\n      <td>[2024.11.05-16.47.31:593][238][2024-11-05 17:4...</td>\n      <td>Desc_RP_Deanium_C</td>\n      <td>Liquid</td>\n      <td>Infinite</td>\n    </tr>\n    <tr>\n      <th>2389</th>\n      <td>[2024.11.05-16.47.31:593][238][2024-11-05 17:4...</td>\n      <td>Desc_RP_Deanium_C</td>\n      <td>Liquid</td>\n      <td>Infinite</td>\n    </tr>\n    <tr>\n      <th>2390</th>\n      <td>[2024.11.05-16.47.31:593][238][2024-11-05 17:4...</td>\n      <td>Desc_RP_Deanium_C</td>\n      <td>Liquid</td>\n      <td>Infinite</td>\n    </tr>\n    <tr>\n      <th>2391</th>\n      <td>[2024.11.05-16.47.31:593][238][2024-11-05 17:4...</td>\n      <td>Desc_RP_Deanium_C</td>\n      <td>Liquid</td>\n      <td>Infinite</td>\n    </tr>\n    <tr>\n      <th>2392</th>\n      <td>[2024.11.05-16.47.31:593][238][2024-11-05 17:4...</td>\n      <td>Desc_RP_Deanium_C</td>\n      <td>Liquid</td>\n      <td>Infinite</td>\n    </tr>\n  </tbody>\n</table>\n<p>126 rows × 4 columns</p>\n</div>"
     },
     "execution_count": 30,
     "metadata": {},
     "output_type": "execute_result"
    }
   ],
   "source": [
    "liquid_nodes = df[df['ResourceForm'] == 'Liquid'].drop_duplicates()\n",
    "liquid_nodes"
   ],
   "metadata": {
    "collapsed": false,
    "ExecuteTime": {
     "end_time": "2024-11-05T18:37:01.292141700Z",
     "start_time": "2024-11-05T18:37:01.276371600Z"
    }
   },
   "id": "7db10279f6259e48"
  },
  {
   "cell_type": "code",
   "execution_count": 26,
   "outputs": [
    {
     "name": "stdout",
     "output_type": "stream",
     "text": [
      "Unique Resource Classes Categorized by Form:\n",
      "\n",
      "\n",
      "Gas Resources:\n"
     ]
    },
    {
     "data": {
      "text/plain": "           ResourceClass\n1777  Desc_NitrogenGas_C",
      "text/html": "<div>\n<style scoped>\n    .dataframe tbody tr th:only-of-type {\n        vertical-align: middle;\n    }\n\n    .dataframe tbody tr th {\n        vertical-align: top;\n    }\n\n    .dataframe thead th {\n        text-align: right;\n    }\n</style>\n<table border=\"1\" class=\"dataframe\">\n  <thead>\n    <tr style=\"text-align: right;\">\n      <th></th>\n      <th>ResourceClass</th>\n    </tr>\n  </thead>\n  <tbody>\n    <tr>\n      <th>1777</th>\n      <td>Desc_NitrogenGas_C</td>\n    </tr>\n  </tbody>\n</table>\n</div>"
     },
     "metadata": {},
     "output_type": "display_data"
    },
    {
     "name": "stdout",
     "output_type": "stream",
     "text": [
      "\n",
      "Heat Resources:\n"
     ]
    },
    {
     "data": {
      "text/plain": "      ResourceClass\n1895  Desc_Geyser_C",
      "text/html": "<div>\n<style scoped>\n    .dataframe tbody tr th:only-of-type {\n        vertical-align: middle;\n    }\n\n    .dataframe tbody tr th {\n        vertical-align: top;\n    }\n\n    .dataframe thead th {\n        text-align: right;\n    }\n</style>\n<table border=\"1\" class=\"dataframe\">\n  <thead>\n    <tr style=\"text-align: right;\">\n      <th></th>\n      <th>ResourceClass</th>\n    </tr>\n  </thead>\n  <tbody>\n    <tr>\n      <th>1895</th>\n      <td>Desc_Geyser_C</td>\n    </tr>\n  </tbody>\n</table>\n</div>"
     },
     "metadata": {},
     "output_type": "display_data"
    },
    {
     "name": "stdout",
     "output_type": "stream",
     "text": [
      "\n",
      "Liquid Resources:\n"
     ]
    },
    {
     "data": {
      "text/plain": "          ResourceClass\n0      Desc_LiquidOil_C\n1778       Desc_Water_C\n2370  Desc_RP_Deanium_C",
      "text/html": "<div>\n<style scoped>\n    .dataframe tbody tr th:only-of-type {\n        vertical-align: middle;\n    }\n\n    .dataframe tbody tr th {\n        vertical-align: top;\n    }\n\n    .dataframe thead th {\n        text-align: right;\n    }\n</style>\n<table border=\"1\" class=\"dataframe\">\n  <thead>\n    <tr style=\"text-align: right;\">\n      <th></th>\n      <th>ResourceClass</th>\n    </tr>\n  </thead>\n  <tbody>\n    <tr>\n      <th>0</th>\n      <td>Desc_LiquidOil_C</td>\n    </tr>\n    <tr>\n      <th>1778</th>\n      <td>Desc_Water_C</td>\n    </tr>\n    <tr>\n      <th>2370</th>\n      <td>Desc_RP_Deanium_C</td>\n    </tr>\n  </tbody>\n</table>\n</div>"
     },
     "metadata": {},
     "output_type": "display_data"
    },
    {
     "name": "stdout",
     "output_type": "stream",
     "text": [
      "\n",
      "Solid Resources:\n"
     ]
    },
    {
     "data": {
      "text/plain": "                  ResourceClass\n1                    Desc_SAM_C\n4                  Desc_Stone_C\n7                Desc_OreIron_C\n14             Desc_OreCopper_C\n23               Desc_OreGold_C\n25                  Desc_Coal_C\n41             Desc_RawQuartz_C\n84                Desc_Sulfur_C\n224           Desc_OreBauxite_C\n230           Desc_OreUranium_C\n1926     Desc_RP_WaterDamNode_C\n1977    Desc_WaterTurbineNode_C\n2208  Desc_FF_Dirt_Fertilized_C\n2209             Desc_FF_Dirt_C\n2242         Desc_FF_Dirt_Wet_C\n2324          Desc_RP_Thorium_C",
      "text/html": "<div>\n<style scoped>\n    .dataframe tbody tr th:only-of-type {\n        vertical-align: middle;\n    }\n\n    .dataframe tbody tr th {\n        vertical-align: top;\n    }\n\n    .dataframe thead th {\n        text-align: right;\n    }\n</style>\n<table border=\"1\" class=\"dataframe\">\n  <thead>\n    <tr style=\"text-align: right;\">\n      <th></th>\n      <th>ResourceClass</th>\n    </tr>\n  </thead>\n  <tbody>\n    <tr>\n      <th>1</th>\n      <td>Desc_SAM_C</td>\n    </tr>\n    <tr>\n      <th>4</th>\n      <td>Desc_Stone_C</td>\n    </tr>\n    <tr>\n      <th>7</th>\n      <td>Desc_OreIron_C</td>\n    </tr>\n    <tr>\n      <th>14</th>\n      <td>Desc_OreCopper_C</td>\n    </tr>\n    <tr>\n      <th>23</th>\n      <td>Desc_OreGold_C</td>\n    </tr>\n    <tr>\n      <th>25</th>\n      <td>Desc_Coal_C</td>\n    </tr>\n    <tr>\n      <th>41</th>\n      <td>Desc_RawQuartz_C</td>\n    </tr>\n    <tr>\n      <th>84</th>\n      <td>Desc_Sulfur_C</td>\n    </tr>\n    <tr>\n      <th>224</th>\n      <td>Desc_OreBauxite_C</td>\n    </tr>\n    <tr>\n      <th>230</th>\n      <td>Desc_OreUranium_C</td>\n    </tr>\n    <tr>\n      <th>1926</th>\n      <td>Desc_RP_WaterDamNode_C</td>\n    </tr>\n    <tr>\n      <th>1977</th>\n      <td>Desc_WaterTurbineNode_C</td>\n    </tr>\n    <tr>\n      <th>2208</th>\n      <td>Desc_FF_Dirt_Fertilized_C</td>\n    </tr>\n    <tr>\n      <th>2209</th>\n      <td>Desc_FF_Dirt_C</td>\n    </tr>\n    <tr>\n      <th>2242</th>\n      <td>Desc_FF_Dirt_Wet_C</td>\n    </tr>\n    <tr>\n      <th>2324</th>\n      <td>Desc_RP_Thorium_C</td>\n    </tr>\n  </tbody>\n</table>\n</div>"
     },
     "metadata": {},
     "output_type": "display_data"
    },
    {
     "name": "stdout",
     "output_type": "stream",
     "text": [
      "\n",
      "Unknown (0) Resources:\n"
     ]
    },
    {
     "data": {
      "text/plain": "    ResourceClass\n459           NaN",
      "text/html": "<div>\n<style scoped>\n    .dataframe tbody tr th:only-of-type {\n        vertical-align: middle;\n    }\n\n    .dataframe tbody tr th {\n        vertical-align: top;\n    }\n\n    .dataframe thead th {\n        text-align: right;\n    }\n</style>\n<table border=\"1\" class=\"dataframe\">\n  <thead>\n    <tr style=\"text-align: right;\">\n      <th></th>\n      <th>ResourceClass</th>\n    </tr>\n  </thead>\n  <tbody>\n    <tr>\n      <th>459</th>\n      <td>NaN</td>\n    </tr>\n  </tbody>\n</table>\n</div>"
     },
     "metadata": {},
     "output_type": "display_data"
    }
   ],
   "source": [
    "print(\"Unique Resource Classes Categorized by Form:\\n\")\n",
    "df_grouped = df.groupby('ResourceForm')\n",
    "for name, group in df_grouped:\n",
    "    print(f\"\\n{name} Resources:\")\n",
    "    unique_group = group[['ResourceClass']].drop_duplicates()\n",
    "    display(unique_group)"
   ],
   "metadata": {
    "collapsed": false,
    "ExecuteTime": {
     "end_time": "2024-11-05T18:32:38.357589200Z",
     "start_time": "2024-11-05T18:32:38.265731300Z"
    }
   },
   "id": "9d359298f422d717"
  },
  {
   "cell_type": "code",
   "execution_count": 26,
   "outputs": [],
   "source": [],
   "metadata": {
    "collapsed": false,
    "ExecuteTime": {
     "end_time": "2024-11-05T18:32:38.391705600Z",
     "start_time": "2024-11-05T18:32:38.281871200Z"
    }
   },
   "id": "cba81906d110c640"
  }
 ],
 "metadata": {
  "kernelspec": {
   "display_name": "Python 3",
   "language": "python",
   "name": "python3"
  },
  "language_info": {
   "codemirror_mode": {
    "name": "ipython",
    "version": 2
   },
   "file_extension": ".py",
   "mimetype": "text/x-python",
   "name": "python",
   "nbconvert_exporter": "python",
   "pygments_lexer": "ipython2",
   "version": "2.7.6"
  }
 },
 "nbformat": 4,
 "nbformat_minor": 5
}
